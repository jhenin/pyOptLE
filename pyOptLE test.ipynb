{
 "cells": [
  {
   "cell_type": "code",
   "execution_count": null,
   "id": "b0c2279a",
   "metadata": {},
   "outputs": [],
   "source": [
    "%load_ext autoreload\n",
    "\n",
    "import numpy as np\n",
    "import matplotlib.pyplot as plt\n",
    "import time\n",
    "from scipy.optimize import minimize\n",
    "\n",
    "import pyOptLE as optle"
   ]
  },
  {
   "cell_type": "code",
   "execution_count": null,
   "id": "d3629b5d-da05-41d5-9f6c-7913364ffc2a",
   "metadata": {},
   "outputs": [],
   "source": [
    "%autoreload"
   ]
  },
  {
   "cell_type": "code",
   "execution_count": null,
   "id": "98ffb68c",
   "metadata": {},
   "outputs": [],
   "source": [
    "generate = False\n",
    "n = 100\n",
    "N = 5000\n",
    "    \n",
    "# User needs to provide dt!\n",
    "dt = 0.1\n",
    "T = 300\n",
    "\n",
    "# format data from \"real\" simulation\n",
    "filenames = ['data_10ala/decaa_abf_500traj', 'data_10ala/decaa_abmd_500traj', 'data_10ala/decaa_nobias_500traj']\n",
    "\n",
    "auto_bounds = True\n",
    "# qmin_user = 11\n",
    "# qmax_user = 34\n",
    "\n",
    "n_knots = 30"
   ]
  },
  {
   "cell_type": "code",
   "execution_count": null,
   "id": "687aebf4",
   "metadata": {},
   "outputs": [],
   "source": [
    "# Load or generate data\n",
    "\n",
    "if generate:\n",
    "    D = 0.5\n",
    "    beta = 1\n",
    "    V = optle.V_harm\n",
    "    nablaV = optle.nablaV_harm\n",
    "#     V = optle.V_dblwell\n",
    "#     nablaV = optle.nablaV_dblwell\n",
    "    q = optle.overdamped_Langevin(n, N, dt, beta, D, nablaV)\n",
    "    f = np.zeros_like(q)\n",
    "else:\n",
    "    q, f = optle.load_traj(filenames)"
   ]
  },
  {
   "cell_type": "code",
   "execution_count": null,
   "id": "6b008372-f097-475c-a53b-eccf93f6c4fe",
   "metadata": {},
   "outputs": [],
   "source": [
    "plot_samples = True\n",
    "plot_traj = True\n",
    "n_plots = 10\n",
    "\n",
    "if plot_samples:\n",
    "    plt.plot([qi.shape[0] for qi in q])\n",
    "    plt.xlabel('Trajectory index')\n",
    "    plt.ylabel('N. of pts per trajectory')\n",
    "\n",
    "if plot_traj:\n",
    "    plt.figure()\n",
    "    stride = len(q) // n_plots\n",
    "    if stride == 0:\n",
    "        stride = 1\n",
    "    for qi in q[::stride]:\n",
    "        plt.plot(qi)\n",
    "    plt.xlabel('t')\n",
    "    plt.ylabel('q')"
   ]
  },
  {
   "cell_type": "code",
   "execution_count": null,
   "id": "f3000419",
   "metadata": {},
   "outputs": [],
   "source": [
    "# Create grid and initial parameter set\n",
    "\n",
    "epsilon = 1e-10\n",
    "qmin_data = min([np.min(qi) for qi in q]) - epsilon\n",
    "qmax_data = max([np.max(qi) for qi in q]) + epsilon\n",
    "\n",
    "if auto_bounds:\n",
    "    # Add margin for floating-point precision\n",
    "    qmin = qmin_data\n",
    "    qmax = qmax_data\n",
    "else:\n",
    "    assert qmin_user <= qmin_data, '%f > %f' % (qmin_user, qmin_data)\n",
    "    assert qmax_user >= qmax_data, '%f < %f' % (qmax_user, qmax_data)\n",
    "    qmin = qmin_user\n",
    "    qmax = qmax_user\n",
    "\n",
    "\n",
    "knots = np.linspace(qmin, qmax, n_knots)\n",
    "\n",
    "# Initial guess for the parameters: zero free energy gradient, constant D = 1\n",
    "initial_params = np.concatenate((np.zeros(n_knots), np.zeros(n_knots) + 1.))"
   ]
  },
  {
   "cell_type": "code",
   "execution_count": null,
   "id": "a23065d0",
   "metadata": {},
   "outputs": [],
   "source": [
    "# Optimize with debiasing\n",
    "\n",
    "result, hist = optle.optimize_model(initial_params, knots, q, f, dt, T = T)"
   ]
  },
  {
   "cell_type": "code",
   "execution_count": null,
   "id": "91c7b20b",
   "metadata": {},
   "outputs": [],
   "source": [
    "# Re-optimize without debiasing\n",
    "\n",
    "result_nb, hist_nb = optle.optimize_model(initial_params, knots, q, f = None, dt = dt, T = T)"
   ]
  },
  {
   "cell_type": "code",
   "execution_count": null,
   "id": "c9bd323a-63cc-437c-8ec7-267479c5b65e",
   "metadata": {},
   "outputs": [],
   "source": [
    "# Smoother interpolation for plotting\n",
    "interp_factor = 10\n",
    "\n",
    "# Fencepost theorem aplied forward and then backward\n",
    "n_discr_points = interp_factor * (len(knots) - 1) + 1\n",
    "x = np.linspace(qmin, qmax, n_discr_points)\n",
    "\n",
    "optimized_params = result.x\n",
    "optimized_G = optimized_params[:n_knots]\n",
    "optimized_logD = optimized_params[n_knots:]\n",
    "\n",
    "optimized_params_nb = result_nb.x\n",
    "optimized_G_nb = optimized_params_nb[:n_knots]\n",
    "optimized_logD_nb = optimized_params_nb[n_knots:]\n",
    "\n",
    "\n",
    "# Integral of linear interpolation\n",
    "\n",
    "predicted = optle.piecewise_linear_int(x, knots, optimized_G)\n",
    "predicted_nb = optle.piecewise_linear_int(x, knots, optimized_G_nb)\n",
    "\n",
    "\n",
    "# Plot the original data and the optimized spline\n",
    "import matplotlib.pyplot as plt\n",
    "\n",
    "counts, bins = np.histogram(np.concatenate(q), bins=40)\n",
    "# FE = -RT * np.log(counts)\n",
    "# FE -= np.min(FE)\n",
    "# plt.stairs(FE, bins, label='FE from histogram')\n",
    "R = 0.00198720425864 # kcal/mol\n",
    "RT = R * T\n",
    "plt.stairs(-RT*(np.log(counts)-np.max(np.log(counts))), bins, label='\\\"Free energy\\\" from histogram')\n",
    "\n",
    "plt.plot(x, predicted, label='Optimized free energy (debiased)', marker='.', markevery=interp_factor)\n",
    "plt.plot(x, predicted_nb, label='Optimized free energy (not debiased)', marker='.', markevery=interp_factor)\n",
    "\n",
    "plt.xlabel('colvar q')\n",
    "plt.ylabel('Free energy')\n",
    "\n",
    "if generate:\n",
    "    plt.plot(x, V(x) - np.min(V(x)), label='True potential')\n",
    "\n",
    "# Ad hoc bc we know this is a double well\n",
    "# plt.plot(x, optle.V_dblwell(x) - np.min(optle.V_dblwell(x)), label='Ideal double well')\n",
    "\n",
    "plt.legend()\n",
    "\n",
    "    \n",
    "    \n",
    "plt.figure()\n",
    "plt.plot(x, np.exp(np.interp(x, knots, optimized_logD)), label='Optimized D (debiased)')\n",
    "plt.plot(x, np.exp(np.interp(x, knots, optimized_logD_nb)), label='Optimized D (not debiased)')\n",
    "\n",
    "if generate:\n",
    "    plt.plot([qmin, qmax], [D, D], label='True D')\n",
    "plt.xlabel('colvar q')\n",
    "plt.ylabel('Diffusion coefficient')\n",
    "plt.legend()\n",
    "\n",
    "plot_gradient = True\n",
    "if plot_gradient:\n",
    "    plt.figure()\n",
    "    predicted_nablaV = np.interp(x, knots, optimized_G)\n",
    "    plt.scatter(knots, optimized_G, label='Optimized grad G')\n",
    "    plt.plot(x, predicted_nablaV, label='Optimized gradient')\n",
    "    if generate:\n",
    "        plt.plot(x, np.interp(x, knots, nablaV(knots)), label='True gradient')\n",
    "    plt.xlabel('colvar q')\n",
    "    plt.ylabel('Diffusion coefficient')\n",
    "    plt.legend()\n"
   ]
  },
  {
   "cell_type": "code",
   "execution_count": null,
   "id": "74e0849e-3141-40f8-b895-f435fc4fe565",
   "metadata": {},
   "outputs": [],
   "source": [
    "plt.plot(optimized_params)"
   ]
  },
  {
   "cell_type": "code",
   "execution_count": null,
   "id": "310abc79",
   "metadata": {},
   "outputs": [],
   "source": [
    "traj = optle.preprocess_traj(q, knots)"
   ]
  },
  {
   "cell_type": "code",
   "execution_count": null,
   "id": "68629443",
   "metadata": {},
   "outputs": [],
   "source": [
    "a, b, c = traj[0]"
   ]
  },
  {
   "cell_type": "code",
   "execution_count": null,
   "id": "446bceb2",
   "metadata": {},
   "outputs": [],
   "source": [
    "optle.check_gradient(optle.objective_order1_debiased, q, f)"
   ]
  },
  {
   "cell_type": "code",
   "execution_count": null,
   "id": "285ba27e",
   "metadata": {},
   "outputs": [],
   "source": []
  }
 ],
 "metadata": {
  "kernelspec": {
   "display_name": "Python 3 (ipykernel)",
   "language": "python",
   "name": "python3"
  },
  "language_info": {
   "codemirror_mode": {
    "name": "ipython",
    "version": 3
   },
   "file_extension": ".py",
   "mimetype": "text/x-python",
   "name": "python",
   "nbconvert_exporter": "python",
   "pygments_lexer": "ipython3",
   "version": "3.9.16"
  }
 },
 "nbformat": 4,
 "nbformat_minor": 5
}
